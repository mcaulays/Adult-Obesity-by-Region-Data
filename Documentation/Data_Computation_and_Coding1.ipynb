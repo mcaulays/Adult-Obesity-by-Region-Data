{
  "nbformat": 4,
  "nbformat_minor": 0,
  "metadata": {
    "colab": {
      "provenance": []
    },
    "kernelspec": {
      "name": "python3",
      "display_name": "Python 3"
    },
    "language_info": {
      "name": "python"
    }
  },
  "cells": [
    {
      "cell_type": "markdown",
      "source": [
        "# **Creating a Dataframe Tutorial**"
      ],
      "metadata": {
        "id": "r-xu4rYXVGKT"
      }
    },
    {
      "cell_type": "markdown",
      "source": [
        "This notebook will walk you through how to create and analyze a subset of data using python. This specific tutorial and accompanying dataset pertains to the County Health Data collected from 2014-2015. Our objective is to determine whether there is a greater prevalence of adult obesity in some regions of the United States than others, and if so, hypothesize why this may be."
      ],
      "metadata": {
        "id": "sv0uN_64V4jg"
      }
    },
    {
      "cell_type": "markdown",
      "source": [
        "# **Importing and Downloading Software**"
      ],
      "metadata": {
        "id": "KxrsJXM_Xmk_"
      }
    },
    {
      "cell_type": "markdown",
      "source": [
        "**Pandas**"
      ],
      "metadata": {
        "id": "EYUPWd-nHZXW"
      }
    },
    {
      "cell_type": "markdown",
      "source": [
        "To use python, make sure you have pulled up Google CoLab and have created a new notebook. Packages are not a part of basic python but can provide additional functions that aid in our analysis. Pandas allows us to visualize and store data into columns and rows with headers. It also helps us to manipulate data so that we can see and analyze the subset we need. Pandas is imported by adding the cell: `import pandas as pd` which is shown below:\n",
        "\n",
        "\n"
      ],
      "metadata": {
        "id": "wIqkycd-Y7o9"
      }
    },
    {
      "cell_type": "code",
      "execution_count": null,
      "metadata": {
        "id": "ym57vVO1QdLI"
      },
      "outputs": [],
      "source": [
        "import pandas as pd\n",
        "df = pd.read_csv(\"CountyHealthData_2014-2015.csv\")"
      ]
    },
    {
      "cell_type": "markdown",
      "source": [
        "Given that we're using pandas to manipulate data, we need to specify what data we want it to use, so that we can make the proper adjustments. To do this, make sure you have the dataset downloaded as a csv file. It can then be imported under the files section of CoLab by selecting the \"content\" folder and uploading a file from your computer. Then we can use the function below to have clarify what data pandas should use and what it is called, which in this case is \"df\" to represent \"dataframe.\" The cell `df = pd.read.csv(\"CountyHealthData_2014-2015.csv\")`tells pandas to read the given dataset and file it into a dataframe that we can work with.\n",
        "\n",
        "\n",
        "\n",
        "\n"
      ],
      "metadata": {
        "id": "Ez6ur4WvHa3t"
      }
    },
    {
      "cell_type": "markdown",
      "source": [
        "**Numpy**"
      ],
      "metadata": {
        "id": "CV7ybfTtmZaY"
      }
    },
    {
      "cell_type": "markdown",
      "source": [
        "Numpy is another package that can help with mathematic computations. Below is the cell to `import numpy`."
      ],
      "metadata": {
        "id": "xqHQNtEqJOV6"
      }
    },
    {
      "cell_type": "code",
      "source": [
        "import numpy as np"
      ],
      "metadata": {
        "id": "DgahIMU9SaXE"
      },
      "execution_count": null,
      "outputs": []
    },
    {
      "cell_type": "markdown",
      "source": [
        "# **Data Attributes**"
      ],
      "metadata": {
        "id": "cfIXTBpGJgiX"
      }
    },
    {
      "cell_type": "markdown",
      "source": [
        "It is important that we explore and visualize the attributes of our data to answer our research question. We can use the format of the code below to explore different attributes.\n",
        "\n",
        "```\n",
        "DataFrame name.attribute name\n",
        "```\n",
        "\n"
      ],
      "metadata": {
        "id": "DL3hfvHBJmyF"
      }
    },
    {
      "cell_type": "markdown",
      "source": [
        "For example, it might be useful to know how many rows and columns are in the dataframe, so we would use the cell below with the attribute `.shape`."
      ],
      "metadata": {
        "id": "Z6lW36hunYCf"
      }
    },
    {
      "cell_type": "code",
      "source": [
        "df.shape"
      ],
      "metadata": {
        "colab": {
          "base_uri": "https://localhost:8080/"
        },
        "id": "GeefctlhS78S",
        "outputId": "06bb8ef3-2068-4ccc-a293-8ecadb0c63c5"
      },
      "execution_count": null,
      "outputs": [
        {
          "output_type": "execute_result",
          "data": {
            "text/plain": [
              "(6109, 64)"
            ]
          },
          "metadata": {},
          "execution_count": 26
        }
      ]
    },
    {
      "cell_type": "markdown",
      "source": [
        "The same can be done with the `.size` of the dataframe, as is seen below."
      ],
      "metadata": {
        "id": "FxVLurnQnkPO"
      }
    },
    {
      "cell_type": "code",
      "source": [
        "df.size"
      ],
      "metadata": {
        "colab": {
          "base_uri": "https://localhost:8080/"
        },
        "id": "jOMb3CqTTBuz",
        "outputId": "4ec88b9d-68ed-4b9f-c457-df4ca258b409"
      },
      "execution_count": null,
      "outputs": [
        {
          "output_type": "execute_result",
          "data": {
            "text/plain": [
              "390976"
            ]
          },
          "metadata": {},
          "execution_count": 27
        }
      ]
    },
    {
      "cell_type": "markdown",
      "source": [
        "When formulating our research question, it is helpful to know what sorts of categorical variables are available within the dataframe so we can narrow down what we want to ask ourselves and analyze. We can do this if we know the names of all of the columns. The cell to enter to achieve this is seen below."
      ],
      "metadata": {
        "id": "DEyUD4V_VKHJ"
      }
    },
    {
      "cell_type": "code",
      "source": [
        "df.columns"
      ],
      "metadata": {
        "colab": {
          "base_uri": "https://localhost:8080/"
        },
        "id": "yFpoKQw3TD6t",
        "outputId": "2ea3f088-7e17-4d84-ffb3-7e8a9e31566e"
      },
      "execution_count": null,
      "outputs": [
        {
          "output_type": "execute_result",
          "data": {
            "text/plain": [
              "Index(['State', 'Region', 'Division', 'County', 'FIPS', 'GEOID', 'SMS Region',\n",
              "       'Year', 'Premature death', 'Poor or fair health',\n",
              "       'Poor physical health days', 'Poor mental health days',\n",
              "       'Low birthweight', 'Adult smoking', 'Adult obesity',\n",
              "       'Food environment index', 'Physical inactivity',\n",
              "       'Access to exercise opportunities', 'Excessive drinking',\n",
              "       'Alcohol-impaired driving deaths', 'Sexually transmitted infections',\n",
              "       'Teen births', 'Uninsured', 'Primary care physicians', 'Dentists',\n",
              "       'Mental health providers', 'Preventable hospital stays',\n",
              "       'Diabetic screening', 'Mammography screening', 'High school graduation',\n",
              "       'Some college', 'Unemployment', 'Children in poverty',\n",
              "       'Income inequality', 'Children in single-parent households',\n",
              "       'Social associations', 'Violent crime', 'Injury deaths',\n",
              "       'Air pollution - particulate matter', 'Drinking water violations',\n",
              "       'Severe housing problems', 'Driving alone to work',\n",
              "       'Long commute - driving alone', '2011 population estimate',\n",
              "       'Population that is not proficient in English',\n",
              "       'Population living in a rural area', 'Diabetes', 'HIV prevalence rate',\n",
              "       'Premature age-adjusted mortality', 'Infant mortality',\n",
              "       'Child mortality', 'Food insecurity', 'Limited access to healthy foods',\n",
              "       'Motor vehicle crash deaths', 'Drug poisoning deaths',\n",
              "       'Uninsured adults', 'Uninsured children', 'Health care costs',\n",
              "       'Could not see doctor due to cost', 'Other primary care providers',\n",
              "       'Median household income', 'Children eligible for free lunch',\n",
              "       'Homicide rate', 'Inadequate social support'],\n",
              "      dtype='object')"
            ]
          },
          "metadata": {},
          "execution_count": 28
        }
      ]
    },
    {
      "cell_type": "markdown",
      "source": [
        "# Filtering the Dataframe"
      ],
      "metadata": {
        "id": "otxLcFIDoSGK"
      }
    },
    {
      "cell_type": "markdown",
      "source": [
        "We saw when we explored the `.shape` attribute that the dataframe is very large, so we need to filter through it and create a subset of data that we can work with."
      ],
      "metadata": {
        "id": "o1jEDEbyoX6T"
      }
    },
    {
      "cell_type": "markdown",
      "source": [
        "**Indexing**"
      ],
      "metadata": {
        "id": "BDGKFhh2pCSq"
      }
    },
    {
      "cell_type": "markdown",
      "source": [
        "Our research question pertains to regions of the US and Adult obesity, so we need to filter through the dataframe to just look at those variables as our only columns.\n",
        "\n",
        "We can use the code `df[\"columns\"][\"rows\"]`to do this. Make sure to use square brackets for these cells.\n",
        "\n",
        "For our dataframe, we will run this cell with Region and Adult obesity. Below is the line of code used to look as just those variables."
      ],
      "metadata": {
        "id": "BbVR-NlkpE2Y"
      }
    },
    {
      "cell_type": "code",
      "source": [
        "df[[\"Region\", \"Adult obesity\"]]"
      ],
      "metadata": {
        "colab": {
          "base_uri": "https://localhost:8080/",
          "height": 423
        },
        "id": "1RRU1TmXTbo2",
        "outputId": "157766d6-3355-45d3-87a7-bd7e177bcb60"
      },
      "execution_count": null,
      "outputs": [
        {
          "output_type": "execute_result",
          "data": {
            "text/plain": [
              "     Region  Adult obesity\n",
              "0      West          0.300\n",
              "1      West          0.329\n",
              "2      West          0.257\n",
              "3      West          0.268\n",
              "4      West          0.315\n",
              "...     ...            ...\n",
              "6104   West          0.293\n",
              "6105   West          0.241\n",
              "6106   West          0.242\n",
              "6107   West          0.313\n",
              "6108   West          0.288\n",
              "\n",
              "[6109 rows x 2 columns]"
            ],
            "text/html": [
              "\n",
              "  <div id=\"df-5d0d7de9-3070-4c6f-8a93-771254063b4d\" class=\"colab-df-container\">\n",
              "    <div>\n",
              "<style scoped>\n",
              "    .dataframe tbody tr th:only-of-type {\n",
              "        vertical-align: middle;\n",
              "    }\n",
              "\n",
              "    .dataframe tbody tr th {\n",
              "        vertical-align: top;\n",
              "    }\n",
              "\n",
              "    .dataframe thead th {\n",
              "        text-align: right;\n",
              "    }\n",
              "</style>\n",
              "<table border=\"1\" class=\"dataframe\">\n",
              "  <thead>\n",
              "    <tr style=\"text-align: right;\">\n",
              "      <th></th>\n",
              "      <th>Region</th>\n",
              "      <th>Adult obesity</th>\n",
              "    </tr>\n",
              "  </thead>\n",
              "  <tbody>\n",
              "    <tr>\n",
              "      <th>0</th>\n",
              "      <td>West</td>\n",
              "      <td>0.300</td>\n",
              "    </tr>\n",
              "    <tr>\n",
              "      <th>1</th>\n",
              "      <td>West</td>\n",
              "      <td>0.329</td>\n",
              "    </tr>\n",
              "    <tr>\n",
              "      <th>2</th>\n",
              "      <td>West</td>\n",
              "      <td>0.257</td>\n",
              "    </tr>\n",
              "    <tr>\n",
              "      <th>3</th>\n",
              "      <td>West</td>\n",
              "      <td>0.268</td>\n",
              "    </tr>\n",
              "    <tr>\n",
              "      <th>4</th>\n",
              "      <td>West</td>\n",
              "      <td>0.315</td>\n",
              "    </tr>\n",
              "    <tr>\n",
              "      <th>...</th>\n",
              "      <td>...</td>\n",
              "      <td>...</td>\n",
              "    </tr>\n",
              "    <tr>\n",
              "      <th>6104</th>\n",
              "      <td>West</td>\n",
              "      <td>0.293</td>\n",
              "    </tr>\n",
              "    <tr>\n",
              "      <th>6105</th>\n",
              "      <td>West</td>\n",
              "      <td>0.241</td>\n",
              "    </tr>\n",
              "    <tr>\n",
              "      <th>6106</th>\n",
              "      <td>West</td>\n",
              "      <td>0.242</td>\n",
              "    </tr>\n",
              "    <tr>\n",
              "      <th>6107</th>\n",
              "      <td>West</td>\n",
              "      <td>0.313</td>\n",
              "    </tr>\n",
              "    <tr>\n",
              "      <th>6108</th>\n",
              "      <td>West</td>\n",
              "      <td>0.288</td>\n",
              "    </tr>\n",
              "  </tbody>\n",
              "</table>\n",
              "<p>6109 rows × 2 columns</p>\n",
              "</div>\n",
              "    <div class=\"colab-df-buttons\">\n",
              "\n",
              "  <div class=\"colab-df-container\">\n",
              "    <button class=\"colab-df-convert\" onclick=\"convertToInteractive('df-5d0d7de9-3070-4c6f-8a93-771254063b4d')\"\n",
              "            title=\"Convert this dataframe to an interactive table.\"\n",
              "            style=\"display:none;\">\n",
              "\n",
              "  <svg xmlns=\"http://www.w3.org/2000/svg\" height=\"24px\" viewBox=\"0 -960 960 960\">\n",
              "    <path d=\"M120-120v-720h720v720H120Zm60-500h600v-160H180v160Zm220 220h160v-160H400v160Zm0 220h160v-160H400v160ZM180-400h160v-160H180v160Zm440 0h160v-160H620v160ZM180-180h160v-160H180v160Zm440 0h160v-160H620v160Z\"/>\n",
              "  </svg>\n",
              "    </button>\n",
              "\n",
              "  <style>\n",
              "    .colab-df-container {\n",
              "      display:flex;\n",
              "      gap: 12px;\n",
              "    }\n",
              "\n",
              "    .colab-df-convert {\n",
              "      background-color: #E8F0FE;\n",
              "      border: none;\n",
              "      border-radius: 50%;\n",
              "      cursor: pointer;\n",
              "      display: none;\n",
              "      fill: #1967D2;\n",
              "      height: 32px;\n",
              "      padding: 0 0 0 0;\n",
              "      width: 32px;\n",
              "    }\n",
              "\n",
              "    .colab-df-convert:hover {\n",
              "      background-color: #E2EBFA;\n",
              "      box-shadow: 0px 1px 2px rgba(60, 64, 67, 0.3), 0px 1px 3px 1px rgba(60, 64, 67, 0.15);\n",
              "      fill: #174EA6;\n",
              "    }\n",
              "\n",
              "    .colab-df-buttons div {\n",
              "      margin-bottom: 4px;\n",
              "    }\n",
              "\n",
              "    [theme=dark] .colab-df-convert {\n",
              "      background-color: #3B4455;\n",
              "      fill: #D2E3FC;\n",
              "    }\n",
              "\n",
              "    [theme=dark] .colab-df-convert:hover {\n",
              "      background-color: #434B5C;\n",
              "      box-shadow: 0px 1px 3px 1px rgba(0, 0, 0, 0.15);\n",
              "      filter: drop-shadow(0px 1px 2px rgba(0, 0, 0, 0.3));\n",
              "      fill: #FFFFFF;\n",
              "    }\n",
              "  </style>\n",
              "\n",
              "    <script>\n",
              "      const buttonEl =\n",
              "        document.querySelector('#df-5d0d7de9-3070-4c6f-8a93-771254063b4d button.colab-df-convert');\n",
              "      buttonEl.style.display =\n",
              "        google.colab.kernel.accessAllowed ? 'block' : 'none';\n",
              "\n",
              "      async function convertToInteractive(key) {\n",
              "        const element = document.querySelector('#df-5d0d7de9-3070-4c6f-8a93-771254063b4d');\n",
              "        const dataTable =\n",
              "          await google.colab.kernel.invokeFunction('convertToInteractive',\n",
              "                                                    [key], {});\n",
              "        if (!dataTable) return;\n",
              "\n",
              "        const docLinkHtml = 'Like what you see? Visit the ' +\n",
              "          '<a target=\"_blank\" href=https://colab.research.google.com/notebooks/data_table.ipynb>data table notebook</a>'\n",
              "          + ' to learn more about interactive tables.';\n",
              "        element.innerHTML = '';\n",
              "        dataTable['output_type'] = 'display_data';\n",
              "        await google.colab.output.renderOutput(dataTable, element);\n",
              "        const docLink = document.createElement('div');\n",
              "        docLink.innerHTML = docLinkHtml;\n",
              "        element.appendChild(docLink);\n",
              "      }\n",
              "    </script>\n",
              "  </div>\n",
              "\n",
              "\n",
              "<div id=\"df-f81304ab-f9ef-4c5f-b0d4-1b4caa206add\">\n",
              "  <button class=\"colab-df-quickchart\" onclick=\"quickchart('df-f81304ab-f9ef-4c5f-b0d4-1b4caa206add')\"\n",
              "            title=\"Suggest charts\"\n",
              "            style=\"display:none;\">\n",
              "\n",
              "<svg xmlns=\"http://www.w3.org/2000/svg\" height=\"24px\"viewBox=\"0 0 24 24\"\n",
              "     width=\"24px\">\n",
              "    <g>\n",
              "        <path d=\"M19 3H5c-1.1 0-2 .9-2 2v14c0 1.1.9 2 2 2h14c1.1 0 2-.9 2-2V5c0-1.1-.9-2-2-2zM9 17H7v-7h2v7zm4 0h-2V7h2v10zm4 0h-2v-4h2v4z\"/>\n",
              "    </g>\n",
              "</svg>\n",
              "  </button>\n",
              "\n",
              "<style>\n",
              "  .colab-df-quickchart {\n",
              "      --bg-color: #E8F0FE;\n",
              "      --fill-color: #1967D2;\n",
              "      --hover-bg-color: #E2EBFA;\n",
              "      --hover-fill-color: #174EA6;\n",
              "      --disabled-fill-color: #AAA;\n",
              "      --disabled-bg-color: #DDD;\n",
              "  }\n",
              "\n",
              "  [theme=dark] .colab-df-quickchart {\n",
              "      --bg-color: #3B4455;\n",
              "      --fill-color: #D2E3FC;\n",
              "      --hover-bg-color: #434B5C;\n",
              "      --hover-fill-color: #FFFFFF;\n",
              "      --disabled-bg-color: #3B4455;\n",
              "      --disabled-fill-color: #666;\n",
              "  }\n",
              "\n",
              "  .colab-df-quickchart {\n",
              "    background-color: var(--bg-color);\n",
              "    border: none;\n",
              "    border-radius: 50%;\n",
              "    cursor: pointer;\n",
              "    display: none;\n",
              "    fill: var(--fill-color);\n",
              "    height: 32px;\n",
              "    padding: 0;\n",
              "    width: 32px;\n",
              "  }\n",
              "\n",
              "  .colab-df-quickchart:hover {\n",
              "    background-color: var(--hover-bg-color);\n",
              "    box-shadow: 0 1px 2px rgba(60, 64, 67, 0.3), 0 1px 3px 1px rgba(60, 64, 67, 0.15);\n",
              "    fill: var(--button-hover-fill-color);\n",
              "  }\n",
              "\n",
              "  .colab-df-quickchart-complete:disabled,\n",
              "  .colab-df-quickchart-complete:disabled:hover {\n",
              "    background-color: var(--disabled-bg-color);\n",
              "    fill: var(--disabled-fill-color);\n",
              "    box-shadow: none;\n",
              "  }\n",
              "\n",
              "  .colab-df-spinner {\n",
              "    border: 2px solid var(--fill-color);\n",
              "    border-color: transparent;\n",
              "    border-bottom-color: var(--fill-color);\n",
              "    animation:\n",
              "      spin 1s steps(1) infinite;\n",
              "  }\n",
              "\n",
              "  @keyframes spin {\n",
              "    0% {\n",
              "      border-color: transparent;\n",
              "      border-bottom-color: var(--fill-color);\n",
              "      border-left-color: var(--fill-color);\n",
              "    }\n",
              "    20% {\n",
              "      border-color: transparent;\n",
              "      border-left-color: var(--fill-color);\n",
              "      border-top-color: var(--fill-color);\n",
              "    }\n",
              "    30% {\n",
              "      border-color: transparent;\n",
              "      border-left-color: var(--fill-color);\n",
              "      border-top-color: var(--fill-color);\n",
              "      border-right-color: var(--fill-color);\n",
              "    }\n",
              "    40% {\n",
              "      border-color: transparent;\n",
              "      border-right-color: var(--fill-color);\n",
              "      border-top-color: var(--fill-color);\n",
              "    }\n",
              "    60% {\n",
              "      border-color: transparent;\n",
              "      border-right-color: var(--fill-color);\n",
              "    }\n",
              "    80% {\n",
              "      border-color: transparent;\n",
              "      border-right-color: var(--fill-color);\n",
              "      border-bottom-color: var(--fill-color);\n",
              "    }\n",
              "    90% {\n",
              "      border-color: transparent;\n",
              "      border-bottom-color: var(--fill-color);\n",
              "    }\n",
              "  }\n",
              "</style>\n",
              "\n",
              "  <script>\n",
              "    async function quickchart(key) {\n",
              "      const quickchartButtonEl =\n",
              "        document.querySelector('#' + key + ' button');\n",
              "      quickchartButtonEl.disabled = true;  // To prevent multiple clicks.\n",
              "      quickchartButtonEl.classList.add('colab-df-spinner');\n",
              "      try {\n",
              "        const charts = await google.colab.kernel.invokeFunction(\n",
              "            'suggestCharts', [key], {});\n",
              "      } catch (error) {\n",
              "        console.error('Error during call to suggestCharts:', error);\n",
              "      }\n",
              "      quickchartButtonEl.classList.remove('colab-df-spinner');\n",
              "      quickchartButtonEl.classList.add('colab-df-quickchart-complete');\n",
              "    }\n",
              "    (() => {\n",
              "      let quickchartButtonEl =\n",
              "        document.querySelector('#df-f81304ab-f9ef-4c5f-b0d4-1b4caa206add button');\n",
              "      quickchartButtonEl.style.display =\n",
              "        google.colab.kernel.accessAllowed ? 'block' : 'none';\n",
              "    })();\n",
              "  </script>\n",
              "</div>\n",
              "    </div>\n",
              "  </div>\n"
            ]
          },
          "metadata": {},
          "execution_count": 29
        }
      ]
    },
    {
      "cell_type": "markdown",
      "source": [
        "For our research question, we want to take the average of the adult obesity values for each of the different regions, so we want to use all of the 6109 rows.First, we need to know how many regions are accounted for in the dataframe. To do this, we run the cell `df.Region.value_counts()`. The line of code and the results are seen below."
      ],
      "metadata": {
        "id": "sXHs4m8xrQG_"
      }
    },
    {
      "cell_type": "code",
      "source": [
        "df.Region.value_counts()"
      ],
      "metadata": {
        "colab": {
          "base_uri": "https://localhost:8080/"
        },
        "id": "OrgkMWj0TofX",
        "outputId": "2f0e6c59-ad61-47ab-e21b-215ba8389f06"
      },
      "execution_count": null,
      "outputs": [
        {
          "output_type": "execute_result",
          "data": {
            "text/plain": [
              "South        2803\n",
              "Midwest      2038\n",
              "West          834\n",
              "Northeast     434\n",
              "Name: Region, dtype: int64"
            ]
          },
          "metadata": {},
          "execution_count": 30
        }
      ]
    },
    {
      "cell_type": "markdown",
      "source": [
        "## **Creating Our Subset**"
      ],
      "metadata": {
        "id": "ZXtdwMbusfLt"
      }
    },
    {
      "cell_type": "markdown",
      "source": [
        "We want to create a final dataframe of data that includes the average Adult obesity for each of the four regions: South, Midwest, West, and Northeast. To do this we need to specify that we are creating a new frame as we take the averages. The code fdf = df`[['Region', 'Adult obesity']]` will do this. \"fdf\" is a new variable representing our final dataframe. To take the means by each group we add the code `.groupby('Region').mean()`. The code below will do these function together."
      ],
      "metadata": {
        "id": "8XqNNTU0stNB"
      }
    },
    {
      "cell_type": "code",
      "source": [
        "fdf = df[['Region', 'Adult obesity']].groupby('Region').mean()"
      ],
      "metadata": {
        "id": "W7tucRtJT7Ls"
      },
      "execution_count": null,
      "outputs": []
    },
    {
      "cell_type": "markdown",
      "source": [
        "Great! Now we have created our subset of data. To visulaize and analyze this for our research we use the cell `fdf.head()` as is seen below."
      ],
      "metadata": {
        "id": "ZqzXgIzot0L_"
      }
    },
    {
      "cell_type": "code",
      "source": [
        "fdf.head()"
      ],
      "metadata": {
        "colab": {
          "base_uri": "https://localhost:8080/",
          "height": 206
        },
        "id": "6647JvBSUqlC",
        "outputId": "987b0025-a719-4f93-b5f4-ab9b622827c4"
      },
      "execution_count": null,
      "outputs": [
        {
          "output_type": "execute_result",
          "data": {
            "text/plain": [
              "           Adult obesity\n",
              "Region                  \n",
              "Midwest         0.311058\n",
              "Northeast       0.277198\n",
              "South           0.322495\n",
              "West            0.259058"
            ],
            "text/html": [
              "\n",
              "  <div id=\"df-b6cdaecb-07ca-41b8-885a-01bcdc8364b3\" class=\"colab-df-container\">\n",
              "    <div>\n",
              "<style scoped>\n",
              "    .dataframe tbody tr th:only-of-type {\n",
              "        vertical-align: middle;\n",
              "    }\n",
              "\n",
              "    .dataframe tbody tr th {\n",
              "        vertical-align: top;\n",
              "    }\n",
              "\n",
              "    .dataframe thead th {\n",
              "        text-align: right;\n",
              "    }\n",
              "</style>\n",
              "<table border=\"1\" class=\"dataframe\">\n",
              "  <thead>\n",
              "    <tr style=\"text-align: right;\">\n",
              "      <th></th>\n",
              "      <th>Adult obesity</th>\n",
              "    </tr>\n",
              "    <tr>\n",
              "      <th>Region</th>\n",
              "      <th></th>\n",
              "    </tr>\n",
              "  </thead>\n",
              "  <tbody>\n",
              "    <tr>\n",
              "      <th>Midwest</th>\n",
              "      <td>0.311058</td>\n",
              "    </tr>\n",
              "    <tr>\n",
              "      <th>Northeast</th>\n",
              "      <td>0.277198</td>\n",
              "    </tr>\n",
              "    <tr>\n",
              "      <th>South</th>\n",
              "      <td>0.322495</td>\n",
              "    </tr>\n",
              "    <tr>\n",
              "      <th>West</th>\n",
              "      <td>0.259058</td>\n",
              "    </tr>\n",
              "  </tbody>\n",
              "</table>\n",
              "</div>\n",
              "    <div class=\"colab-df-buttons\">\n",
              "\n",
              "  <div class=\"colab-df-container\">\n",
              "    <button class=\"colab-df-convert\" onclick=\"convertToInteractive('df-b6cdaecb-07ca-41b8-885a-01bcdc8364b3')\"\n",
              "            title=\"Convert this dataframe to an interactive table.\"\n",
              "            style=\"display:none;\">\n",
              "\n",
              "  <svg xmlns=\"http://www.w3.org/2000/svg\" height=\"24px\" viewBox=\"0 -960 960 960\">\n",
              "    <path d=\"M120-120v-720h720v720H120Zm60-500h600v-160H180v160Zm220 220h160v-160H400v160Zm0 220h160v-160H400v160ZM180-400h160v-160H180v160Zm440 0h160v-160H620v160ZM180-180h160v-160H180v160Zm440 0h160v-160H620v160Z\"/>\n",
              "  </svg>\n",
              "    </button>\n",
              "\n",
              "  <style>\n",
              "    .colab-df-container {\n",
              "      display:flex;\n",
              "      gap: 12px;\n",
              "    }\n",
              "\n",
              "    .colab-df-convert {\n",
              "      background-color: #E8F0FE;\n",
              "      border: none;\n",
              "      border-radius: 50%;\n",
              "      cursor: pointer;\n",
              "      display: none;\n",
              "      fill: #1967D2;\n",
              "      height: 32px;\n",
              "      padding: 0 0 0 0;\n",
              "      width: 32px;\n",
              "    }\n",
              "\n",
              "    .colab-df-convert:hover {\n",
              "      background-color: #E2EBFA;\n",
              "      box-shadow: 0px 1px 2px rgba(60, 64, 67, 0.3), 0px 1px 3px 1px rgba(60, 64, 67, 0.15);\n",
              "      fill: #174EA6;\n",
              "    }\n",
              "\n",
              "    .colab-df-buttons div {\n",
              "      margin-bottom: 4px;\n",
              "    }\n",
              "\n",
              "    [theme=dark] .colab-df-convert {\n",
              "      background-color: #3B4455;\n",
              "      fill: #D2E3FC;\n",
              "    }\n",
              "\n",
              "    [theme=dark] .colab-df-convert:hover {\n",
              "      background-color: #434B5C;\n",
              "      box-shadow: 0px 1px 3px 1px rgba(0, 0, 0, 0.15);\n",
              "      filter: drop-shadow(0px 1px 2px rgba(0, 0, 0, 0.3));\n",
              "      fill: #FFFFFF;\n",
              "    }\n",
              "  </style>\n",
              "\n",
              "    <script>\n",
              "      const buttonEl =\n",
              "        document.querySelector('#df-b6cdaecb-07ca-41b8-885a-01bcdc8364b3 button.colab-df-convert');\n",
              "      buttonEl.style.display =\n",
              "        google.colab.kernel.accessAllowed ? 'block' : 'none';\n",
              "\n",
              "      async function convertToInteractive(key) {\n",
              "        const element = document.querySelector('#df-b6cdaecb-07ca-41b8-885a-01bcdc8364b3');\n",
              "        const dataTable =\n",
              "          await google.colab.kernel.invokeFunction('convertToInteractive',\n",
              "                                                    [key], {});\n",
              "        if (!dataTable) return;\n",
              "\n",
              "        const docLinkHtml = 'Like what you see? Visit the ' +\n",
              "          '<a target=\"_blank\" href=https://colab.research.google.com/notebooks/data_table.ipynb>data table notebook</a>'\n",
              "          + ' to learn more about interactive tables.';\n",
              "        element.innerHTML = '';\n",
              "        dataTable['output_type'] = 'display_data';\n",
              "        await google.colab.output.renderOutput(dataTable, element);\n",
              "        const docLink = document.createElement('div');\n",
              "        docLink.innerHTML = docLinkHtml;\n",
              "        element.appendChild(docLink);\n",
              "      }\n",
              "    </script>\n",
              "  </div>\n",
              "\n",
              "\n",
              "<div id=\"df-06e8fe1d-58ca-4785-b91e-fbcbf90f90a1\">\n",
              "  <button class=\"colab-df-quickchart\" onclick=\"quickchart('df-06e8fe1d-58ca-4785-b91e-fbcbf90f90a1')\"\n",
              "            title=\"Suggest charts\"\n",
              "            style=\"display:none;\">\n",
              "\n",
              "<svg xmlns=\"http://www.w3.org/2000/svg\" height=\"24px\"viewBox=\"0 0 24 24\"\n",
              "     width=\"24px\">\n",
              "    <g>\n",
              "        <path d=\"M19 3H5c-1.1 0-2 .9-2 2v14c0 1.1.9 2 2 2h14c1.1 0 2-.9 2-2V5c0-1.1-.9-2-2-2zM9 17H7v-7h2v7zm4 0h-2V7h2v10zm4 0h-2v-4h2v4z\"/>\n",
              "    </g>\n",
              "</svg>\n",
              "  </button>\n",
              "\n",
              "<style>\n",
              "  .colab-df-quickchart {\n",
              "      --bg-color: #E8F0FE;\n",
              "      --fill-color: #1967D2;\n",
              "      --hover-bg-color: #E2EBFA;\n",
              "      --hover-fill-color: #174EA6;\n",
              "      --disabled-fill-color: #AAA;\n",
              "      --disabled-bg-color: #DDD;\n",
              "  }\n",
              "\n",
              "  [theme=dark] .colab-df-quickchart {\n",
              "      --bg-color: #3B4455;\n",
              "      --fill-color: #D2E3FC;\n",
              "      --hover-bg-color: #434B5C;\n",
              "      --hover-fill-color: #FFFFFF;\n",
              "      --disabled-bg-color: #3B4455;\n",
              "      --disabled-fill-color: #666;\n",
              "  }\n",
              "\n",
              "  .colab-df-quickchart {\n",
              "    background-color: var(--bg-color);\n",
              "    border: none;\n",
              "    border-radius: 50%;\n",
              "    cursor: pointer;\n",
              "    display: none;\n",
              "    fill: var(--fill-color);\n",
              "    height: 32px;\n",
              "    padding: 0;\n",
              "    width: 32px;\n",
              "  }\n",
              "\n",
              "  .colab-df-quickchart:hover {\n",
              "    background-color: var(--hover-bg-color);\n",
              "    box-shadow: 0 1px 2px rgba(60, 64, 67, 0.3), 0 1px 3px 1px rgba(60, 64, 67, 0.15);\n",
              "    fill: var(--button-hover-fill-color);\n",
              "  }\n",
              "\n",
              "  .colab-df-quickchart-complete:disabled,\n",
              "  .colab-df-quickchart-complete:disabled:hover {\n",
              "    background-color: var(--disabled-bg-color);\n",
              "    fill: var(--disabled-fill-color);\n",
              "    box-shadow: none;\n",
              "  }\n",
              "\n",
              "  .colab-df-spinner {\n",
              "    border: 2px solid var(--fill-color);\n",
              "    border-color: transparent;\n",
              "    border-bottom-color: var(--fill-color);\n",
              "    animation:\n",
              "      spin 1s steps(1) infinite;\n",
              "  }\n",
              "\n",
              "  @keyframes spin {\n",
              "    0% {\n",
              "      border-color: transparent;\n",
              "      border-bottom-color: var(--fill-color);\n",
              "      border-left-color: var(--fill-color);\n",
              "    }\n",
              "    20% {\n",
              "      border-color: transparent;\n",
              "      border-left-color: var(--fill-color);\n",
              "      border-top-color: var(--fill-color);\n",
              "    }\n",
              "    30% {\n",
              "      border-color: transparent;\n",
              "      border-left-color: var(--fill-color);\n",
              "      border-top-color: var(--fill-color);\n",
              "      border-right-color: var(--fill-color);\n",
              "    }\n",
              "    40% {\n",
              "      border-color: transparent;\n",
              "      border-right-color: var(--fill-color);\n",
              "      border-top-color: var(--fill-color);\n",
              "    }\n",
              "    60% {\n",
              "      border-color: transparent;\n",
              "      border-right-color: var(--fill-color);\n",
              "    }\n",
              "    80% {\n",
              "      border-color: transparent;\n",
              "      border-right-color: var(--fill-color);\n",
              "      border-bottom-color: var(--fill-color);\n",
              "    }\n",
              "    90% {\n",
              "      border-color: transparent;\n",
              "      border-bottom-color: var(--fill-color);\n",
              "    }\n",
              "  }\n",
              "</style>\n",
              "\n",
              "  <script>\n",
              "    async function quickchart(key) {\n",
              "      const quickchartButtonEl =\n",
              "        document.querySelector('#' + key + ' button');\n",
              "      quickchartButtonEl.disabled = true;  // To prevent multiple clicks.\n",
              "      quickchartButtonEl.classList.add('colab-df-spinner');\n",
              "      try {\n",
              "        const charts = await google.colab.kernel.invokeFunction(\n",
              "            'suggestCharts', [key], {});\n",
              "      } catch (error) {\n",
              "        console.error('Error during call to suggestCharts:', error);\n",
              "      }\n",
              "      quickchartButtonEl.classList.remove('colab-df-spinner');\n",
              "      quickchartButtonEl.classList.add('colab-df-quickchart-complete');\n",
              "    }\n",
              "    (() => {\n",
              "      let quickchartButtonEl =\n",
              "        document.querySelector('#df-06e8fe1d-58ca-4785-b91e-fbcbf90f90a1 button');\n",
              "      quickchartButtonEl.style.display =\n",
              "        google.colab.kernel.accessAllowed ? 'block' : 'none';\n",
              "    })();\n",
              "  </script>\n",
              "</div>\n",
              "    </div>\n",
              "  </div>\n"
            ]
          },
          "metadata": {},
          "execution_count": 32
        }
      ]
    },
    {
      "cell_type": "markdown",
      "source": [
        "# Findings"
      ],
      "metadata": {
        "id": "DcREMJwAueni"
      }
    },
    {
      "cell_type": "markdown",
      "source": [
        "Now that we can view the different averages for Adult obesity by Region, we can compare them. All of the values are relatively similar, though Adult obesity is the most prevalent in the South and the least prevalent in the West according to this dataset.\n",
        "\n",
        "Some reasons for this might be the difference in culture between each of the regions. Perhaps access to healthier food is at a greater availability in the West. It's also possible that healthy lifestyles are expensive and can be afforded by more people in the West than in other regions. More research would need to be done on the variables that influence this data."
      ],
      "metadata": {
        "id": "tm0Jij_qujtN"
      }
    },
    {
      "cell_type": "markdown",
      "source": [
        "# Exporting the Dataframe"
      ],
      "metadata": {
        "id": "WuaLzIEVuNYv"
      }
    },
    {
      "cell_type": "markdown",
      "source": [
        "Next we need to export our data, and to do so we must rename it and create is as a csv. file. To export is as a csv. file we use the code `fdf.to_csv`and to rename it we add to that code `('Average_of_AO_by_Region.csv')`. The line of code put together is seen below."
      ],
      "metadata": {
        "id": "7UqIcd0puRzR"
      }
    },
    {
      "cell_type": "code",
      "source": [
        "fdf.to_csv('Average_of_AO_by_Region.csv')"
      ],
      "metadata": {
        "id": "hmJYEzGpUxe-"
      },
      "execution_count": null,
      "outputs": []
    },
    {
      "cell_type": "markdown",
      "source": [
        "Once this is completed, you've filtered and created a new dataframe from the original! It can now be found under the \"content\" folder in Google CoLab and can be downloaded to your computer."
      ],
      "metadata": {
        "id": "eGB1jHL7wDtU"
      }
    }
  ]
}